{
 "cells": [
  {
   "cell_type": "code",
   "execution_count": 1,
   "metadata": {},
   "outputs": [],
   "source": [
    "import numpy as np\n",
    "import pandas as pd\n",
    "import os\n",
    "import seaborn as sb\n",
    "import seaborn as sns\n",
    "import matplotlib.pyplot as plt\n",
    "\n",
    "from nltk import word_tokenize\n",
    "from nltk.corpus import stopwords\n",
    "from nltk.stem.porter import PorterStemmer\n",
    "from nltk import pos_tag\n",
    "from nltk.sentiment.vader import SentimentIntensityAnalyzer\n",
    "from gensim.models import Word2Vec\n",
    "from nltk.stem import SnowballStemmer\n",
    "import string\n",
    "\n",
    "\n",
    "import lightgbm as lgb\n",
    "from sklearn.neural_network import MLPClassifier\n",
    "from sklearn.model_selection import train_test_split\n",
    "from sklearn.linear_model import LogisticRegression\n",
    "from sklearn.ensemble import GradientBoostingClassifier\n",
    "from sklearn.metrics import classification_report, confusion_matrix, accuracy_score\n",
    "from sklearn.preprocessing import StandardScaler,RobustScaler,LabelEncoder,PowerTransformer"
   ]
  },
  {
   "cell_type": "markdown",
   "metadata": {},
   "source": [
    "# 1.Data Processing and Analysis"
   ]
  },
  {
   "cell_type": "code",
   "execution_count": 2,
   "metadata": {},
   "outputs": [],
   "source": [
    "data = pd.read_csv(\"/Users/nataliechang/Desktop/Eluvio_DS_Challenge.csv\")"
   ]
  },
  {
   "cell_type": "code",
   "execution_count": 3,
   "metadata": {},
   "outputs": [
    {
     "data": {
      "text/html": [
       "<div>\n",
       "<style scoped>\n",
       "    .dataframe tbody tr th:only-of-type {\n",
       "        vertical-align: middle;\n",
       "    }\n",
       "\n",
       "    .dataframe tbody tr th {\n",
       "        vertical-align: top;\n",
       "    }\n",
       "\n",
       "    .dataframe thead th {\n",
       "        text-align: right;\n",
       "    }\n",
       "</style>\n",
       "<table border=\"1\" class=\"dataframe\">\n",
       "  <thead>\n",
       "    <tr style=\"text-align: right;\">\n",
       "      <th></th>\n",
       "      <th>time_created</th>\n",
       "      <th>date_created</th>\n",
       "      <th>up_votes</th>\n",
       "      <th>title</th>\n",
       "      <th>over_18</th>\n",
       "      <th>author</th>\n",
       "    </tr>\n",
       "  </thead>\n",
       "  <tbody>\n",
       "    <tr>\n",
       "      <th>0</th>\n",
       "      <td>1201232046</td>\n",
       "      <td>20080125</td>\n",
       "      <td>3</td>\n",
       "      <td>Scores killed in Pakistan clashes</td>\n",
       "      <td>0</td>\n",
       "      <td>69315</td>\n",
       "    </tr>\n",
       "    <tr>\n",
       "      <th>1</th>\n",
       "      <td>1201232075</td>\n",
       "      <td>20080125</td>\n",
       "      <td>2</td>\n",
       "      <td>Japan resumes refuelling mission</td>\n",
       "      <td>0</td>\n",
       "      <td>69315</td>\n",
       "    </tr>\n",
       "    <tr>\n",
       "      <th>2</th>\n",
       "      <td>1201232523</td>\n",
       "      <td>20080125</td>\n",
       "      <td>3</td>\n",
       "      <td>US presses Egypt on Gaza border</td>\n",
       "      <td>0</td>\n",
       "      <td>69315</td>\n",
       "    </tr>\n",
       "    <tr>\n",
       "      <th>3</th>\n",
       "      <td>1201233290</td>\n",
       "      <td>20080125</td>\n",
       "      <td>1</td>\n",
       "      <td>Jump-start economy: Give health care to all</td>\n",
       "      <td>0</td>\n",
       "      <td>47884</td>\n",
       "    </tr>\n",
       "    <tr>\n",
       "      <th>4</th>\n",
       "      <td>1201274720</td>\n",
       "      <td>20080125</td>\n",
       "      <td>4</td>\n",
       "      <td>Council of Europe bashes EU&amp;UN terror blacklist</td>\n",
       "      <td>0</td>\n",
       "      <td>62766</td>\n",
       "    </tr>\n",
       "  </tbody>\n",
       "</table>\n",
       "</div>"
      ],
      "text/plain": [
       "   time_created date_created  up_votes  \\\n",
       "0    1201232046     20080125         3   \n",
       "1    1201232075     20080125         2   \n",
       "2    1201232523     20080125         3   \n",
       "3    1201233290     20080125         1   \n",
       "4    1201274720     20080125         4   \n",
       "\n",
       "                                             title  over_18  author  \n",
       "0                Scores killed in Pakistan clashes        0   69315  \n",
       "1                 Japan resumes refuelling mission        0   69315  \n",
       "2                  US presses Egypt on Gaza border        0   69315  \n",
       "3     Jump-start economy: Give health care to all         0   47884  \n",
       "4  Council of Europe bashes EU&UN terror blacklist        0   62766  "
      ]
     },
     "execution_count": 3,
     "metadata": {},
     "output_type": "execute_result"
    }
   ],
   "source": [
    "data = data.drop(columns=['down_votes','category'])\n",
    "\n",
    "class_mapping = {label: idx for idx, label in enumerate(np.unique(data['over_18']))}\n",
    "data['over_18'] = data['over_18'].map(class_mapping)\n",
    "class_mapping2 = {label: idx for idx, label in enumerate(np.unique(data['author']))}\n",
    "data['author'] = data['author'].map(class_mapping2)\n",
    "\n",
    "data['date_created'] = data['date_created'].map(lambda x: x.replace('-',''))\n",
    "data.head()"
   ]
  },
  {
   "cell_type": "markdown",
   "metadata": {},
   "source": [
    "#  Top 10 title Tokenized"
   ]
  },
  {
   "cell_type": "code",
   "execution_count": 4,
   "metadata": {},
   "outputs": [],
   "source": [
    "stopwords = set(stopwords.words('english'))\n",
    "top_titles = data.sort_values(by='up_votes', ascending=False)['title'].values[:10]\n",
    "top_words = set(np.concatenate([word_tokenize(t) for t in top_titles])) - stopwords\n",
    "top_words = {word.lower() for word in top_words}\n",
    "top_words = top_words - set(string.punctuation) - set(string.digits)"
   ]
  },
  {
   "cell_type": "markdown",
   "metadata": {},
   "source": [
    "# Add Tokenized data"
   ]
  },
  {
   "cell_type": "code",
   "execution_count": 5,
   "metadata": {},
   "outputs": [],
   "source": [
    "words_tokenized = [[w.lower() for w in word_tokenize(t)] for t in data['title']]\n",
    "data['tokenized_title'] = words_tokenized\n",
    "all_words = pd.Series(np.concatenate(words_tokenized)).value_counts()"
   ]
  },
  {
   "cell_type": "code",
   "execution_count": 6,
   "metadata": {},
   "outputs": [],
   "source": [
    "all_words = all_words[[word not in stopwords for word in all_words.index]]\n",
    "all_words = all_words[[word not in string.punctuation for word in all_words.index]]\n",
    "all_words = all_words[[word not in string.digits for word in all_words.index]]"
   ]
  },
  {
   "cell_type": "code",
   "execution_count": 7,
   "metadata": {},
   "outputs": [],
   "source": [
    "stemmer = PorterStemmer()\n",
    "all_words.index = [stemmer.stem(w) for w in all_words.index]"
   ]
  },
  {
   "cell_type": "code",
   "execution_count": 8,
   "metadata": {},
   "outputs": [
    {
     "data": {
      "text/plain": [
       "<AxesSubplot:>"
      ]
     },
     "execution_count": 8,
     "metadata": {},
     "output_type": "execute_result"
    },
    {
     "data": {
      "image/png": "[encoded data removed]",
      "text/plain": [
       "<Figure size 432x288 with 1 Axes>"
      ]
     },
     "metadata": {
      "needs_background": "light"
     },
     "output_type": "display_data"
    }
   ],
   "source": [
    "all_words[:1500].plot()"
   ]
  },
  {
   "cell_type": "code",
   "execution_count": 9,
   "metadata": {},
   "outputs": [],
   "source": [
    "all_stems = all_words.groupby(by=all_words.index).sum().sort_values(ascending=False)\n",
    "data['stemmed_title'] = data['tokenized_title'].map(lambda wl: [stemmer.stem(w) for w in wl])"
   ]
  },
  {
   "cell_type": "code",
   "execution_count": 10,
   "metadata": {},
   "outputs": [
    {
     "data": {
      "text/plain": [
       "0                   [NNS, VBN, IN, NN, NNS]\n",
       "1                        [NN, VBZ, VBG, NN]\n",
       "2                [PRP, VBZ, NN, IN, NN, NN]\n",
       "3           [JJ, NN, :, JJ, NN, NN, TO, DT]\n",
       "4    [NN, IN, NN, NNS, VBP, CC, JJ, NN, NN]\n",
       "Name: pos_title, dtype: object"
      ]
     },
     "execution_count": 10,
     "metadata": {},
     "output_type": "execute_result"
    }
   ],
   "source": [
    "pos_tag(data['tokenized_title'][0])\n",
    "data['pos_title'] = data['tokenized_title'].map(lambda t: [t[1] for t in pos_tag(t)])\n",
    "data['pos_title'].head()"
   ]
  },
  {
   "cell_type": "code",
   "execution_count": 11,
   "metadata": {},
   "outputs": [],
   "source": [
    "def noun(df):\n",
    "    tags = df['pos_title']\n",
    "    stems = df['stemmed_title']\n",
    "    return [s for (t, s) in zip(tags, stems) if t in ['NN', 'NNS']]"
   ]
  },
  {
   "cell_type": "code",
   "execution_count": 12,
   "metadata": {},
   "outputs": [],
   "source": [
    "data['main_title'] = data.apply(noun, axis='columns')"
   ]
  },
  {
   "cell_type": "code",
   "execution_count": 13,
   "metadata": {},
   "outputs": [
    {
     "data": {
      "text/plain": [
       "china     21660\n",
       "attack    18450\n",
       "world     17999\n",
       "year      16583\n",
       "govern    16199\n",
       "state     16054\n",
       "polic     15917\n",
       "syria     15904\n",
       "russia    15620\n",
       "presid    15263\n",
       "dtype: int64"
      ]
     },
     "execution_count": 13,
     "metadata": {},
     "output_type": "execute_result"
    }
   ],
   "source": [
    "title_counts = pd.Series(np.concatenate(data['main_title'].values)).value_counts()\n",
    "title_counts[1:].head(10)"
   ]
  },
  {
   "cell_type": "code",
   "execution_count": 14,
   "metadata": {},
   "outputs": [
    {
     "data": {
      "text/plain": [
       "<AxesSubplot:>"
      ]
     },
     "execution_count": 14,
     "metadata": {},
     "output_type": "execute_result"
    },
    {
     "data": {
      "image/png": "[encoded data removed]",
      "text/plain": [
       "<Figure size 432x288 with 1 Axes>"
      ]
     },
     "metadata": {
      "needs_background": "light"
     },
     "output_type": "display_data"
    }
   ],
   "source": [
    "title_counts[1:].head(20).plot(kind='bar')"
   ]
  },
  {
   "cell_type": "code",
   "execution_count": 15,
   "metadata": {},
   "outputs": [],
   "source": [
    "title_list = data['title']\n",
    "sa = SentimentIntensityAnalyzer()\n",
    "sentiment = [sa.polarity_scores(t)['compound'] for t in title_list]"
   ]
  },
  {
   "cell_type": "code",
   "execution_count": 16,
   "metadata": {},
   "outputs": [],
   "source": [
    "sentiment = np.asarray(sentiment)\n",
    "\n",
    "for i in range(sentiment.size):\n",
    "    if (sentiment[i] >= 0):\n",
    "        sentiment[i] = 1 \n",
    "    else:\n",
    "        sentiment[i] = 0 \n",
    "\n",
    "data['sentiment'] = sentiment"
   ]
  },
  {
   "cell_type": "code",
   "execution_count": 17,
   "metadata": {},
   "outputs": [
    {
     "data": {
      "text/html": [
       "<div>\n",
       "<style scoped>\n",
       "    .dataframe tbody tr th:only-of-type {\n",
       "        vertical-align: middle;\n",
       "    }\n",
       "\n",
       "    .dataframe tbody tr th {\n",
       "        vertical-align: top;\n",
       "    }\n",
       "\n",
       "    .dataframe thead th {\n",
       "        text-align: right;\n",
       "    }\n",
       "</style>\n",
       "<table border=\"1\" class=\"dataframe\">\n",
       "  <thead>\n",
       "    <tr style=\"text-align: right;\">\n",
       "      <th></th>\n",
       "      <th>time_created</th>\n",
       "      <th>date_created</th>\n",
       "      <th>up_votes</th>\n",
       "      <th>title</th>\n",
       "      <th>over_18</th>\n",
       "      <th>author</th>\n",
       "      <th>tokenized_title</th>\n",
       "      <th>stemmed_title</th>\n",
       "      <th>pos_title</th>\n",
       "      <th>main_title</th>\n",
       "      <th>sentiment</th>\n",
       "    </tr>\n",
       "  </thead>\n",
       "  <tbody>\n",
       "    <tr>\n",
       "      <th>0</th>\n",
       "      <td>1201232046</td>\n",
       "      <td>20080125</td>\n",
       "      <td>3</td>\n",
       "      <td>Scores killed in Pakistan clashes</td>\n",
       "      <td>0</td>\n",
       "      <td>69315</td>\n",
       "      <td>[scores, killed, in, pakistan, clashes]</td>\n",
       "      <td>[score, kill, in, pakistan, clash]</td>\n",
       "      <td>[NNS, VBN, IN, NN, NNS]</td>\n",
       "      <td>[score, pakistan, clash]</td>\n",
       "      <td>0.0</td>\n",
       "    </tr>\n",
       "    <tr>\n",
       "      <th>1</th>\n",
       "      <td>1201232075</td>\n",
       "      <td>20080125</td>\n",
       "      <td>2</td>\n",
       "      <td>Japan resumes refuelling mission</td>\n",
       "      <td>0</td>\n",
       "      <td>69315</td>\n",
       "      <td>[japan, resumes, refuelling, mission]</td>\n",
       "      <td>[japan, resum, refuel, mission]</td>\n",
       "      <td>[NN, VBZ, VBG, NN]</td>\n",
       "      <td>[japan, mission]</td>\n",
       "      <td>1.0</td>\n",
       "    </tr>\n",
       "    <tr>\n",
       "      <th>2</th>\n",
       "      <td>1201232523</td>\n",
       "      <td>20080125</td>\n",
       "      <td>3</td>\n",
       "      <td>US presses Egypt on Gaza border</td>\n",
       "      <td>0</td>\n",
       "      <td>69315</td>\n",
       "      <td>[us, presses, egypt, on, gaza, border]</td>\n",
       "      <td>[us, press, egypt, on, gaza, border]</td>\n",
       "      <td>[PRP, VBZ, NN, IN, NN, NN]</td>\n",
       "      <td>[egypt, gaza, border]</td>\n",
       "      <td>1.0</td>\n",
       "    </tr>\n",
       "    <tr>\n",
       "      <th>3</th>\n",
       "      <td>1201233290</td>\n",
       "      <td>20080125</td>\n",
       "      <td>1</td>\n",
       "      <td>Jump-start economy: Give health care to all</td>\n",
       "      <td>0</td>\n",
       "      <td>47884</td>\n",
       "      <td>[jump-start, economy, :, give, health, care, t...</td>\n",
       "      <td>[jump-start, economi, :, give, health, care, t...</td>\n",
       "      <td>[JJ, NN, :, JJ, NN, NN, TO, DT]</td>\n",
       "      <td>[economi, health, care]</td>\n",
       "      <td>1.0</td>\n",
       "    </tr>\n",
       "    <tr>\n",
       "      <th>4</th>\n",
       "      <td>1201274720</td>\n",
       "      <td>20080125</td>\n",
       "      <td>4</td>\n",
       "      <td>Council of Europe bashes EU&amp;UN terror blacklist</td>\n",
       "      <td>0</td>\n",
       "      <td>62766</td>\n",
       "      <td>[council, of, europe, bashes, eu, &amp;, un, terro...</td>\n",
       "      <td>[council, of, europ, bash, eu, &amp;, un, terror, ...</td>\n",
       "      <td>[NN, IN, NN, NNS, VBP, CC, JJ, NN, NN]</td>\n",
       "      <td>[council, europ, bash, terror, blacklist]</td>\n",
       "      <td>0.0</td>\n",
       "    </tr>\n",
       "  </tbody>\n",
       "</table>\n",
       "</div>"
      ],
      "text/plain": [
       "   time_created date_created  up_votes  \\\n",
       "0    1201232046     20080125         3   \n",
       "1    1201232075     20080125         2   \n",
       "2    1201232523     20080125         3   \n",
       "3    1201233290     20080125         1   \n",
       "4    1201274720     20080125         4   \n",
       "\n",
       "                                             title  over_18  author  \\\n",
       "0                Scores killed in Pakistan clashes        0   69315   \n",
       "1                 Japan resumes refuelling mission        0   69315   \n",
       "2                  US presses Egypt on Gaza border        0   69315   \n",
       "3     Jump-start economy: Give health care to all         0   47884   \n",
       "4  Council of Europe bashes EU&UN terror blacklist        0   62766   \n",
       "\n",
       "                                     tokenized_title  \\\n",
       "0            [scores, killed, in, pakistan, clashes]   \n",
       "1              [japan, resumes, refuelling, mission]   \n",
       "2             [us, presses, egypt, on, gaza, border]   \n",
       "3  [jump-start, economy, :, give, health, care, t...   \n",
       "4  [council, of, europe, bashes, eu, &, un, terro...   \n",
       "\n",
       "                                       stemmed_title  \\\n",
       "0                 [score, kill, in, pakistan, clash]   \n",
       "1                    [japan, resum, refuel, mission]   \n",
       "2               [us, press, egypt, on, gaza, border]   \n",
       "3  [jump-start, economi, :, give, health, care, t...   \n",
       "4  [council, of, europ, bash, eu, &, un, terror, ...   \n",
       "\n",
       "                                pos_title  \\\n",
       "0                 [NNS, VBN, IN, NN, NNS]   \n",
       "1                      [NN, VBZ, VBG, NN]   \n",
       "2              [PRP, VBZ, NN, IN, NN, NN]   \n",
       "3         [JJ, NN, :, JJ, NN, NN, TO, DT]   \n",
       "4  [NN, IN, NN, NNS, VBP, CC, JJ, NN, NN]   \n",
       "\n",
       "                                  main_title  sentiment  \n",
       "0                   [score, pakistan, clash]        0.0  \n",
       "1                           [japan, mission]        1.0  \n",
       "2                      [egypt, gaza, border]        1.0  \n",
       "3                    [economi, health, care]        1.0  \n",
       "4  [council, europ, bash, terror, blacklist]        0.0  "
      ]
     },
     "execution_count": 17,
     "metadata": {},
     "output_type": "execute_result"
    }
   ],
   "source": [
    "data.head()"
   ]
  },
  {
   "cell_type": "code",
   "execution_count": 18,
   "metadata": {},
   "outputs": [
    {
     "name": "stdout",
     "output_type": "stream",
     "text": [
      "Shape of title tensor (509236, 64)\n",
      "Shape of sentiment tensor (509236,)\n"
     ]
    }
   ],
   "source": [
    "from tensorflow.python.keras.preprocessing.text import Tokenizer\n",
    "from tensorflow.python.keras.preprocessing.sequence import pad_sequences\n",
    "\n",
    "tokenizer_obj = Tokenizer()\n",
    "tokenizer_obj.fit_on_texts(data['tokenized_title'])\n",
    "sequences = tokenizer_obj.texts_to_sequences(data['tokenized_title'])\n",
    "word_index = tokenizer_obj.word_index\n",
    "\n",
    "#pad sequences\n",
    "max_length = max([len(t.split()) for t in data['title']])\n",
    "title_pad = pad_sequences(sequences, maxlen = max_length)\n",
    "\n",
    "print(\"Shape of title tensor\",title_pad.shape)\n",
    "print(\"Shape of sentiment tensor\",data['sentiment'].shape)"
   ]
  },
  {
   "cell_type": "markdown",
   "metadata": {},
   "source": [
    "# Predict sentiment"
   ]
  },
  {
   "cell_type": "code",
   "execution_count": 19,
   "metadata": {},
   "outputs": [],
   "source": [
    "X_train = title_pad\n",
    "indices = np.arange(title_pad.shape[0])\n",
    "y_train = data['sentiment'][indices]\n",
    "\n",
    "from sklearn.model_selection import train_test_split\n",
    "X_train, X_val, y_train, y_val = train_test_split(X_train, y_train, test_size=0.2, random_state=42)"
   ]
  },
  {
   "cell_type": "markdown",
   "metadata": {},
   "source": [
    "# LogisticRegression"
   ]
  },
  {
   "cell_type": "code",
   "execution_count": 20,
   "metadata": {},
   "outputs": [
    {
     "name": "stderr",
     "output_type": "stream",
     "text": [
      "/usr/local/lib/python3.8/site-packages/sklearn/linear_model/_logistic.py:762: ConvergenceWarning: lbfgs failed to converge (status=1):\n",
      "STOP: TOTAL NO. of ITERATIONS REACHED LIMIT.\n",
      "\n",
      "Increase the number of iterations (max_iter) or scale the data as shown in:\n",
      "    https://scikit-learn.org/stable/modules/preprocessing.html\n",
      "Please also refer to the documentation for alternative solver options:\n",
      "    https://scikit-learn.org/stable/modules/linear_model.html#logistic-regression\n",
      "  n_iter_i = _check_optimize_result(\n"
     ]
    },
    {
     "data": {
      "text/plain": [
       "LogisticRegression(tol=0.01)"
      ]
     },
     "execution_count": 20,
     "metadata": {},
     "output_type": "execute_result"
    }
   ],
   "source": [
    "LR = LogisticRegression(C=1.0, tol=0.01)\n",
    "LR.fit(X_train, y_train)"
   ]
  },
  {
   "cell_type": "code",
   "execution_count": 21,
   "metadata": {},
   "outputs": [
    {
     "data": {
      "text/plain": [
       "0.5224059382609378"
      ]
     },
     "execution_count": 21,
     "metadata": {},
     "output_type": "execute_result"
    }
   ],
   "source": [
    "y_predict = LR.predict(X_val)\n",
    "LR.score(X_val, y_val)"
   ]
  },
  {
   "cell_type": "code",
   "execution_count": 22,
   "metadata": {},
   "outputs": [
    {
     "name": "stdout",
     "output_type": "stream",
     "text": [
      "              precision    recall  f1-score   support\n",
      "\n",
      "         0.0       0.60      0.30      0.40     53826\n",
      "         1.0       0.50      0.77      0.60     48022\n",
      "\n",
      "    accuracy                           0.52    101848\n",
      "   macro avg       0.55      0.54      0.50    101848\n",
      "weighted avg       0.55      0.52      0.50    101848\n",
      "\n"
     ]
    }
   ],
   "source": [
    "print(classification_report(y_val, y_predict))"
   ]
  },
  {
   "cell_type": "markdown",
   "metadata": {},
   "source": [
    "# GBDT"
   ]
  },
  {
   "cell_type": "code",
   "execution_count": 23,
   "metadata": {},
   "outputs": [
    {
     "data": {
      "text/plain": [
       "GradientBoostingClassifier()"
      ]
     },
     "execution_count": 23,
     "metadata": {},
     "output_type": "execute_result"
    }
   ],
   "source": [
    "gbdt = GradientBoostingClassifier()\n",
    "gbdt.fit(X_train, y_train)"
   ]
  },
  {
   "cell_type": "code",
   "execution_count": 24,
   "metadata": {},
   "outputs": [
    {
     "data": {
      "text/plain": [
       "0.5963494619432881"
      ]
     },
     "execution_count": 24,
     "metadata": {},
     "output_type": "execute_result"
    }
   ],
   "source": [
    "y_predict = gbdt.predict(X_val)\n",
    "gbdt.score(X_val, y_val)"
   ]
  },
  {
   "cell_type": "code",
   "execution_count": 25,
   "metadata": {},
   "outputs": [
    {
     "name": "stdout",
     "output_type": "stream",
     "text": [
      "              precision    recall  f1-score   support\n",
      "\n",
      "         0.0       0.59      0.75      0.66     53826\n",
      "         1.0       0.60      0.43      0.50     48022\n",
      "\n",
      "    accuracy                           0.60    101848\n",
      "   macro avg       0.60      0.59      0.58    101848\n",
      "weighted avg       0.60      0.60      0.59    101848\n",
      "\n"
     ]
    }
   ],
   "source": [
    "print(classification_report(y_val, y_predict))"
   ]
  },
  {
   "cell_type": "markdown",
   "metadata": {},
   "source": [
    "# Multi-layer Neural network"
   ]
  },
  {
   "cell_type": "code",
   "execution_count": 26,
   "metadata": {},
   "outputs": [
    {
     "data": {
      "text/plain": [
       "MLPClassifier(alpha=1e-05, hidden_layer_sizes=(8, 2), random_state=1,\n",
       "              solver='lbfgs')"
      ]
     },
     "execution_count": 26,
     "metadata": {},
     "output_type": "execute_result"
    }
   ],
   "source": [
    "mlp = MLPClassifier(solver='lbfgs', alpha=1e-5, hidden_layer_sizes=(8, 2), random_state=1)\n",
    "mlp.fit(X_train, y_train)"
   ]
  },
  {
   "cell_type": "code",
   "execution_count": 27,
   "metadata": {},
   "outputs": [
    {
     "data": {
      "text/plain": [
       "0.5284934412065038"
      ]
     },
     "execution_count": 27,
     "metadata": {},
     "output_type": "execute_result"
    }
   ],
   "source": [
    "y_predict = mlp.predict(X_val)\n",
    "mlp.score(X_val, y_val)"
   ]
  },
  {
   "cell_type": "code",
   "execution_count": 28,
   "metadata": {},
   "outputs": [
    {
     "name": "stdout",
     "output_type": "stream",
     "text": [
      "              precision    recall  f1-score   support\n",
      "\n",
      "         0.0       0.53      1.00      0.69     53826\n",
      "         1.0       0.00      0.00      0.00     48022\n",
      "\n",
      "    accuracy                           0.53    101848\n",
      "   macro avg       0.26      0.50      0.35    101848\n",
      "weighted avg       0.28      0.53      0.37    101848\n",
      "\n"
     ]
    },
    {
     "name": "stderr",
     "output_type": "stream",
     "text": [
      "/usr/local/lib/python3.8/site-packages/sklearn/metrics/_classification.py:1221: UndefinedMetricWarning: Precision and F-score are ill-defined and being set to 0.0 in labels with no predicted samples. Use `zero_division` parameter to control this behavior.\n",
      "  _warn_prf(average, modifier, msg_start, len(result))\n"
     ]
    }
   ],
   "source": [
    "print(classification_report(y_val, y_predict))"
   ]
  },
  {
   "cell_type": "markdown",
   "metadata": {},
   "source": [
    "# LightGBM"
   ]
  },
  {
   "cell_type": "code",
   "execution_count": 29,
   "metadata": {},
   "outputs": [
    {
     "name": "stdout",
     "output_type": "stream",
     "text": [
      "[LightGBM] [Warning] feature_fraction is set=0.8, colsample_bytree=1.0 will be ignored. Current value: feature_fraction=0.8\n"
     ]
    }
   ],
   "source": [
    "from sklearn.kernel_ridge import KernelRidge\n",
    "import lightgbm as lgb\n",
    "from lightgbm import LGBMClassifier\n",
    "lgb_classifier = lgb.LGBMClassifier(boosting_type='gbdt', num_leaves=500, learning_rate=0.001, \n",
    "                                    max_depth=800, feature_fraction=0.8, subsample=0.2,\n",
    "                                    is_unbalance=True)\n",
    "lgb_classifier.fit(X_train,y_train)\n",
    "y_head = lgb_classifier.predict(X_val)"
   ]
  },
  {
   "cell_type": "code",
   "execution_count": 31,
   "metadata": {},
   "outputs": [],
   "source": [
    "y_head = y_head.tolist()"
   ]
  },
  {
   "cell_type": "code",
   "execution_count": 32,
   "metadata": {},
   "outputs": [
    {
     "name": "stdout",
     "output_type": "stream",
     "text": [
      "              precision    recall  f1-score   support\n",
      "\n",
      "         0.0       1.00      0.53      0.69    101528\n",
      "         1.0       0.01      0.85      0.01       320\n",
      "\n",
      "    accuracy                           0.53    101848\n",
      "   macro avg       0.50      0.69      0.35    101848\n",
      "weighted avg       1.00      0.53      0.69    101848\n",
      "\n"
     ]
    }
   ],
   "source": [
    "print(classification_report(y_head, y_val))"
   ]
  },
  {
   "cell_type": "code",
   "execution_count": null,
   "metadata": {},
   "outputs": [],
   "source": []
  },
  {
   "cell_type": "code",
   "execution_count": null,
   "metadata": {},
   "outputs": [],
   "source": []
  }
 ],
 "metadata": {
  "kernelspec": {
   "display_name": "Python 3",
   "language": "python",
   "name": "python3"
  },
  "language_info": {
   "codemirror_mode": {
    "name": "ipython",
    "version": 3
   },
   "file_extension": ".py",
   "mimetype": "text/x-python",
   "name": "python",
   "nbconvert_exporter": "python",
   "pygments_lexer": "ipython3",
   "version": "3.8.5"
  }
 },
 "nbformat": 4,
 "nbformat_minor": 4
}
